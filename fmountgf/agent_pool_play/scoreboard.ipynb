{
 "cells": [
  {
   "cell_type": "markdown",
   "metadata": {},
   "source": [
    "# Scoreboard"
   ]
  },
  {
   "cell_type": "markdown",
   "metadata": {},
   "source": [
    "From pool play run results we want to see scoreboard table"
   ]
  },
  {
   "cell_type": "code",
   "execution_count": 1,
   "metadata": {},
   "outputs": [],
   "source": [
    "import pandas as pd\n",
    "import numpy as np"
   ]
  },
  {
   "cell_type": "code",
   "execution_count": 2,
   "metadata": {},
   "outputs": [],
   "source": [
    "pool_play_run_dir = 'pool_play_results/28-10-2020-05-30-10/'"
   ]
  },
  {
   "cell_type": "code",
   "execution_count": 3,
   "metadata": {},
   "outputs": [
    {
     "name": "stdout",
     "output_type": "stream",
     "text": [
      "(100, 9)\n"
     ]
    }
   ],
   "source": [
    "rdf = pd.read_csv(pool_play_run_dir + 'results.csv')\n",
    "print(rdf.shape)"
   ]
  },
  {
   "cell_type": "markdown",
   "metadata": {},
   "source": [
    "Want to remove TIMEOUT ones"
   ]
  },
  {
   "cell_type": "code",
   "execution_count": 4,
   "metadata": {},
   "outputs": [
    {
     "name": "stdout",
     "output_type": "stream",
     "text": [
      "(100, 9)\n"
     ]
    }
   ],
   "source": [
    "rdf = rdf[rdf['right_status'] == 'DONE']\n",
    "rdf = rdf[rdf['left_status'] == 'DONE']\n",
    "print(rdf.shape)"
   ]
  },
  {
   "cell_type": "markdown",
   "metadata": {},
   "source": [
    "for agent, we calculate number of wins and losses, and goals for and goals against"
   ]
  },
  {
   "cell_type": "code",
   "execution_count": 5,
   "metadata": {},
   "outputs": [],
   "source": [
    "agents = list(set(list(rdf.left_agent.unique()) + list(rdf.right_agent.unique())))"
   ]
  },
  {
   "cell_type": "code",
   "execution_count": 6,
   "metadata": {},
   "outputs": [
    {
     "data": {
      "text/plain": [
       "['tunable-baseline-bot/submission_v6.py',\n",
       " 'gfootball-with-memory-patterns/submission_v15.py',\n",
       " 'best-open-rules-bot/submission_v2.py',\n",
       " 'gfootball-with-memory-patterns/submission_v28.py',\n",
       " 'gfootball-with-memory-patterns/submission_v32.py']"
      ]
     },
     "execution_count": 6,
     "metadata": {},
     "output_type": "execute_result"
    }
   ],
   "source": [
    "agents"
   ]
  },
  {
   "cell_type": "code",
   "execution_count": 7,
   "metadata": {},
   "outputs": [],
   "source": [
    "result_list = []\n",
    "\n",
    "for agent in agents:\n",
    "    left_df = rdf[rdf.left_agent == agent].reset_index(drop=True)\n",
    "    \n",
    "    # calculate num_wins, num_losses, num_ties\n",
    "    left_df['num_wins'] = np.where(left_df['left_score'] > left_df['right_score'], 1, 0)\n",
    "    left_df['num_losses'] = np.where(left_df['left_score'] < left_df['right_score'], 1, 0)\n",
    "    left_df['num_ties'] = np.where(left_df['left_score'] == left_df['right_score'], 1, 0)\n",
    "    \n",
    "    games_played = len(left_df)\n",
    "    goals_for = left_df.left_score.sum()\n",
    "    goals_against = left_df.right_score.sum()\n",
    "    num_wins = left_df.num_wins.sum()\n",
    "    num_losses = left_df.num_losses.sum()\n",
    "    num_ties = left_df.num_ties.sum()\n",
    "    \n",
    "    \n",
    "    right_df = rdf[rdf.right_agent == agent].reset_index(drop=True)\n",
    "    \n",
    "    # calculate num_wins, num_losses, num_ties\n",
    "    right_df['num_wins'] = np.where(right_df['right_score'] > right_df['left_score'], 1, 0)\n",
    "    right_df['num_losses'] = np.where(right_df['right_score'] < right_df['left_score'], 1, 0)\n",
    "    right_df['num_ties'] = np.where(right_df['right_score'] == right_df['left_score'], 1, 0)\n",
    "    \n",
    "    games_played = games_played + len(right_df)\n",
    "    goals_for = goals_for + right_df.right_score.sum()\n",
    "    goals_against = goals_against + right_df.left_score.sum()\n",
    "    num_wins = num_wins + right_df.num_wins.sum()\n",
    "    num_losses = num_losses + right_df.num_losses.sum()\n",
    "    num_ties = num_ties + right_df.num_ties.sum()\n",
    "    \n",
    "    result_list.append([agent, games_played, num_wins, num_losses, num_ties, goals_for, goals_against])\n",
    "    \n",
    "fdf = pd.DataFrame(result_list, columns = ['agent', 'games_played', 'num_wins', 'num_losses', 'num_ties',\n",
    "                                           'goals_for', 'goals_against'])\n",
    "\n",
    "fdf['num_points'] = fdf['num_wins']*3 + fdf['num_ties']*1\n",
    "\n",
    "fdf = fdf.sort_values('num_points', ascending=False)"
   ]
  },
  {
   "cell_type": "code",
   "execution_count": 8,
   "metadata": {},
   "outputs": [
    {
     "data": {
      "text/html": [
       "<div>\n",
       "<style scoped>\n",
       "    .dataframe tbody tr th:only-of-type {\n",
       "        vertical-align: middle;\n",
       "    }\n",
       "\n",
       "    .dataframe tbody tr th {\n",
       "        vertical-align: top;\n",
       "    }\n",
       "\n",
       "    .dataframe thead th {\n",
       "        text-align: right;\n",
       "    }\n",
       "</style>\n",
       "<table border=\"1\" class=\"dataframe\">\n",
       "  <thead>\n",
       "    <tr style=\"text-align: right;\">\n",
       "      <th></th>\n",
       "      <th>agent</th>\n",
       "      <th>games_played</th>\n",
       "      <th>num_wins</th>\n",
       "      <th>num_losses</th>\n",
       "      <th>num_ties</th>\n",
       "      <th>goals_for</th>\n",
       "      <th>goals_against</th>\n",
       "      <th>num_points</th>\n",
       "    </tr>\n",
       "  </thead>\n",
       "  <tbody>\n",
       "    <tr>\n",
       "      <th>4</th>\n",
       "      <td>gfootball-with-memory-patterns/submission_v32.py</td>\n",
       "      <td>40</td>\n",
       "      <td>29</td>\n",
       "      <td>7</td>\n",
       "      <td>4</td>\n",
       "      <td>127</td>\n",
       "      <td>66</td>\n",
       "      <td>91</td>\n",
       "    </tr>\n",
       "    <tr>\n",
       "      <th>3</th>\n",
       "      <td>gfootball-with-memory-patterns/submission_v28.py</td>\n",
       "      <td>40</td>\n",
       "      <td>17</td>\n",
       "      <td>14</td>\n",
       "      <td>9</td>\n",
       "      <td>82</td>\n",
       "      <td>75</td>\n",
       "      <td>60</td>\n",
       "    </tr>\n",
       "    <tr>\n",
       "      <th>1</th>\n",
       "      <td>gfootball-with-memory-patterns/submission_v15.py</td>\n",
       "      <td>40</td>\n",
       "      <td>16</td>\n",
       "      <td>17</td>\n",
       "      <td>7</td>\n",
       "      <td>101</td>\n",
       "      <td>108</td>\n",
       "      <td>55</td>\n",
       "    </tr>\n",
       "    <tr>\n",
       "      <th>2</th>\n",
       "      <td>best-open-rules-bot/submission_v2.py</td>\n",
       "      <td>40</td>\n",
       "      <td>14</td>\n",
       "      <td>15</td>\n",
       "      <td>11</td>\n",
       "      <td>82</td>\n",
       "      <td>80</td>\n",
       "      <td>53</td>\n",
       "    </tr>\n",
       "    <tr>\n",
       "      <th>0</th>\n",
       "      <td>tunable-baseline-bot/submission_v6.py</td>\n",
       "      <td>40</td>\n",
       "      <td>6</td>\n",
       "      <td>29</td>\n",
       "      <td>5</td>\n",
       "      <td>66</td>\n",
       "      <td>129</td>\n",
       "      <td>23</td>\n",
       "    </tr>\n",
       "  </tbody>\n",
       "</table>\n",
       "</div>"
      ],
      "text/plain": [
       "                                              agent  games_played  num_wins  \\\n",
       "4  gfootball-with-memory-patterns/submission_v32.py            40        29   \n",
       "3  gfootball-with-memory-patterns/submission_v28.py            40        17   \n",
       "1  gfootball-with-memory-patterns/submission_v15.py            40        16   \n",
       "2              best-open-rules-bot/submission_v2.py            40        14   \n",
       "0             tunable-baseline-bot/submission_v6.py            40         6   \n",
       "\n",
       "   num_losses  num_ties  goals_for  goals_against  num_points  \n",
       "4           7         4        127             66          91  \n",
       "3          14         9         82             75          60  \n",
       "1          17         7        101            108          55  \n",
       "2          15        11         82             80          53  \n",
       "0          29         5         66            129          23  "
      ]
     },
     "execution_count": 8,
     "metadata": {},
     "output_type": "execute_result"
    }
   ],
   "source": [
    "fdf"
   ]
  },
  {
   "cell_type": "code",
   "execution_count": null,
   "metadata": {},
   "outputs": [],
   "source": []
  },
  {
   "cell_type": "code",
   "execution_count": null,
   "metadata": {},
   "outputs": [],
   "source": []
  },
  {
   "cell_type": "markdown",
   "metadata": {},
   "source": [
    "## Testing"
   ]
  },
  {
   "cell_type": "code",
   "execution_count": 9,
   "metadata": {},
   "outputs": [
    {
     "data": {
      "text/plain": [
       "tunable-baseline-bot/submission_v6.py               40\n",
       "best-open-rules-bot/submission_v2.py                30\n",
       "gfootball-with-memory-patterns/submission_v15.py    20\n",
       "gfootball-with-memory-patterns/submission_v28.py    10\n",
       "Name: left_agent, dtype: int64"
      ]
     },
     "execution_count": 9,
     "metadata": {},
     "output_type": "execute_result"
    }
   ],
   "source": [
    "rdf.left_agent.value_counts()"
   ]
  },
  {
   "cell_type": "code",
   "execution_count": 10,
   "metadata": {},
   "outputs": [
    {
     "data": {
      "text/plain": [
       "gfootball-with-memory-patterns/submission_v32.py    40\n",
       "gfootball-with-memory-patterns/submission_v28.py    30\n",
       "gfootball-with-memory-patterns/submission_v15.py    20\n",
       "best-open-rules-bot/submission_v2.py                10\n",
       "Name: right_agent, dtype: int64"
      ]
     },
     "execution_count": 10,
     "metadata": {},
     "output_type": "execute_result"
    }
   ],
   "source": [
    "rdf.right_agent.value_counts()"
   ]
  },
  {
   "cell_type": "code",
   "execution_count": null,
   "metadata": {},
   "outputs": [],
   "source": []
  }
 ],
 "metadata": {
  "kernelspec": {
   "display_name": "Python 3",
   "language": "python",
   "name": "python3"
  },
  "language_info": {
   "codemirror_mode": {
    "name": "ipython",
    "version": 3
   },
   "file_extension": ".py",
   "mimetype": "text/x-python",
   "name": "python",
   "nbconvert_exporter": "python",
   "pygments_lexer": "ipython3",
   "version": "3.6.9"
  }
 },
 "nbformat": 4,
 "nbformat_minor": 4
}
