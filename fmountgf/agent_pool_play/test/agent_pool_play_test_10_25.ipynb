{
 "cells": [
  {
   "cell_type": "markdown",
   "metadata": {},
   "source": [
    "# Agent Pool Play"
   ]
  },
  {
   "cell_type": "markdown",
   "metadata": {},
   "source": [
    "Take a list of local agents and play them against each other a certain amount of times and store the results. Will help us tell how good our agent is doing, and see improvements if any"
   ]
  },
  {
   "cell_type": "code",
   "execution_count": 3,
   "metadata": {},
   "outputs": [],
   "source": [
    "#!pip3 install pandas"
   ]
  },
  {
   "cell_type": "code",
   "execution_count": 1,
   "metadata": {},
   "outputs": [],
   "source": [
    "import pandas as pd\n",
    "import datetime as dt\n",
    "import os\n",
    "import itertools\n",
    "import time\n",
    "from kaggle_environments import make\n",
    "from kaggle_environments.envs.football.helpers import *\n",
    "from math import sqrt\n",
    "\n",
    "AGENTS_DIR = '../submit_agents/'\n",
    "EXPORT_DIR = 'pool_play_results/'\n",
    "NUM_POOL_PLAYS = 1\n",
    "\n",
    "agents = [\n",
    "    'tunable-baseline-bot/submission_v6.py',\n",
    "    'best-open-rules-bot/submission_v2.py',\n",
    "    'gfootball-with-memory-patterns/submission_v15.py',\n",
    "    'gfootball-with-memory-patterns/submission_v28.py',\n",
    "    'smart-control-strategy/submission_v3.py'\n",
    "]\n",
    "\n",
    "env_config = {\n",
    "    \"save_video\": False,\n",
    "    \"scenario_name\": \"11_vs_11_kaggle\",\n",
    "    \"running_in_notebook\": True,\n",
    "    \"episodeSteps\": 100\n",
    "}\n",
    "\n",
    "\n",
    "def run_pool_play():\n",
    "    print('run start')\n",
    "    start_time = time.time()\n",
    "    \n",
    "    agents_dirs = [AGENTS_DIR + x for x in agents]\n",
    "    all_agents_dirs_combo = list(itertools.combinations(agents_dirs,2))\n",
    "    \n",
    "    env = make(\"football\", configuration=env_config, debug=False)\n",
    "    \n",
    "    \n",
    "    df_list = []\n",
    "\n",
    "    for pool_play_round in range(NUM_POOL_PLAYS):\n",
    "        for agent1, agent2 in all_agents_dirs_combo:\n",
    "            env.reset()\n",
    "            output = env.run([agent1, agent2])\n",
    "\n",
    "            final_output = output[-1]\n",
    "            left_agent_foutput = final_output[0]\n",
    "            right_agent_foutput = final_output[1]\n",
    "            left_reward = left_agent_foutput['reward']\n",
    "            right_reward = right_agent_foutput['reward']\n",
    "            left_status = left_agent_foutput['status']\n",
    "            right_status = right_agent_foutput['status']\n",
    "\n",
    "            left_score = output[-1][0]['observation']['players_raw'][0]['score'][0]\n",
    "            right_score = output[-1][0]['observation']['players_raw'][0]['score'][1]\n",
    "\n",
    "            adf = pd.DataFrame()\n",
    "            adf['round'] = [pool_play_round]\n",
    "            adf['left_agent'] = [agent1.replace(AGENTS_DIR, '')]\n",
    "            adf['right_agent'] = [agent2.replace(AGENTS_DIR, '')]\n",
    "            adf['left_score'] = [left_score]\n",
    "            adf['right_score'] = [right_score]\n",
    "            adf['left_reward'] = [left_reward]\n",
    "            adf['right_reward'] = [right_reward]\n",
    "            adf['left_status'] = [left_status]\n",
    "            adf['right_status'] = [right_status]\n",
    "\n",
    "            df_list.append(adf)\n",
    "\n",
    "        pool_play_round +=1\n",
    "        \n",
    "    \n",
    "    fdf = pd.concat(df_list)\n",
    "    \n",
    "    # make export directory w/ timestamp of runs\n",
    "    curr_datetime = dt.datetime.now()\n",
    "    curr_time = curr_datetime.strftime('%d-%m-%Y-%H-%M-%S')\n",
    "    export_fdir = EXPORT_DIR + curr_time\n",
    "    os.mkdir(export_fdir)\n",
    "    \n",
    "    # write out results\n",
    "    fdf.to_csv(export_fdir + '/results.csv', index=False)\n",
    "    \n",
    "    \n",
    "    # write out config\n",
    "    config_df = pd.DataFrame(env_config.items())\n",
    "    config_df = config_df.append([['num_pool_plays', NUM_POOL_PLAYS]])\n",
    "    config_df.to_csv(export_fdir + '/config.csv', index=False)\n",
    "    \n",
    "    end_time = round((time.time() - start_time), 2)\n",
    "    print(\"complete: --- %s seconds ---\" % end_time)\n",
    "    \n",
    "    return"
   ]
  },
  {
   "cell_type": "code",
   "execution_count": 2,
   "metadata": {},
   "outputs": [
    {
     "name": "stdout",
     "output_type": "stream",
     "text": [
      "run start\n",
      "complete: --- 10.06 seconds ---\n"
     ]
    }
   ],
   "source": [
    "run_pool_play()"
   ]
  },
  {
   "cell_type": "code",
   "execution_count": null,
   "metadata": {},
   "outputs": [],
   "source": []
  },
  {
   "cell_type": "code",
   "execution_count": null,
   "metadata": {},
   "outputs": [],
   "source": []
  },
  {
   "cell_type": "code",
   "execution_count": null,
   "metadata": {},
   "outputs": [],
   "source": []
  },
  {
   "cell_type": "code",
   "execution_count": null,
   "metadata": {},
   "outputs": [],
   "source": []
  },
  {
   "cell_type": "code",
   "execution_count": null,
   "metadata": {},
   "outputs": [],
   "source": []
  },
  {
   "cell_type": "code",
   "execution_count": null,
   "metadata": {},
   "outputs": [],
   "source": []
  },
  {
   "cell_type": "code",
   "execution_count": null,
   "metadata": {},
   "outputs": [],
   "source": []
  },
  {
   "cell_type": "code",
   "execution_count": null,
   "metadata": {},
   "outputs": [],
   "source": []
  },
  {
   "cell_type": "markdown",
   "metadata": {},
   "source": [
    "## Test"
   ]
  },
  {
   "cell_type": "code",
   "execution_count": 16,
   "metadata": {},
   "outputs": [
    {
     "data": {
      "text/plain": [
       "2002"
      ]
     },
     "execution_count": 16,
     "metadata": {},
     "output_type": "execute_result"
    }
   ],
   "source": [
    "output[-1][0]['observation']['players_raw'][0]['steps_left']"
   ]
  },
  {
   "cell_type": "code",
   "execution_count": 17,
   "metadata": {},
   "outputs": [
    {
     "data": {
      "text/plain": [
       "[1, 1]"
      ]
     },
     "execution_count": 17,
     "metadata": {},
     "output_type": "execute_result"
    }
   ],
   "source": [
    "output[-1][0]['observation']['players_raw'][0]['score']"
   ]
  },
  {
   "cell_type": "code",
   "execution_count": 147,
   "metadata": {},
   "outputs": [
    {
     "name": "stdout",
     "output_type": "stream",
     "text": [
      "26-10-2020-04-40-44\n"
     ]
    }
   ],
   "source": [
    "curr_datetime = dt.datetime.now()\n",
    "run_timestamp_id = dt.datetime.now().strftime('%Y%m%d%H%M%S%f')\n",
    "atimestamp = curr_datetime.strftime('%d-%m-%Y-%H-%M-%S')\n",
    "print(atimestamp)"
   ]
  },
  {
   "cell_type": "code",
   "execution_count": 52,
   "metadata": {},
   "outputs": [
    {
     "name": "stdout",
     "output_type": "stream",
     "text": [
      "Staring a new environment f42e1e81-d9bc-4935-849c-81e3bc22d2c8: with scenario: 11_vs_11_kaggle\n",
      "Resetting environment f42e1e81-d9bc-4935-849c-81e3bc22d2c8: with scenario: 11_vs_11_kaggle\n",
      "CPU times: user 43.3 s, sys: 1.9 s, total: 45.2 s\n",
      "Wall time: 43.3 s\n"
     ]
    }
   ],
   "source": [
    "%%time\n",
    "env = make(\"football\", configuration=env_config, debug=True)\n",
    "output = env.run([agents_dirs[0], agents_dirs[1]])"
   ]
  },
  {
   "cell_type": "code",
   "execution_count": 53,
   "metadata": {},
   "outputs": [
    {
     "data": {
      "text/plain": [
       "3002"
      ]
     },
     "execution_count": 53,
     "metadata": {},
     "output_type": "execute_result"
    }
   ],
   "source": [
    "len(output)"
   ]
  },
  {
   "cell_type": "markdown",
   "metadata": {},
   "source": [
    "Capture some output"
   ]
  },
  {
   "cell_type": "code",
   "execution_count": 54,
   "metadata": {},
   "outputs": [],
   "source": [
    "final_output = output[-1]\n",
    "left_agent_foutput = final_output[0]\n",
    "right_agent_foutput = final_output[1]\n",
    "left_agent_reward = left_agent_foutput['reward']\n",
    "right_agent_reward = right_agent_foutput['reward']\n",
    "left_agent_status = left_agent_foutput['status']\n",
    "right_agent_status = right_agent_foutput['status']\n",
    "left_agent_info = left_agent_foutput['info']\n",
    "right_agent_info = right_agent_foutput['info']"
   ]
  },
  {
   "cell_type": "code",
   "execution_count": 55,
   "metadata": {},
   "outputs": [],
   "source": [
    "adf = pd.DataFrame()\n",
    "adf['left_agent'] = [agents[0]]\n",
    "adf['right_agent'] = [agents[1]]\n",
    "adf['left_agent_reward'] = [left_agent_reward]\n",
    "adf['right_agent_reward'] = [right_agent_reward]\n",
    "adf['left_agent_status'] = [left_agent_status]\n",
    "adf['right_agent_status'] = [right_agent_status]"
   ]
  },
  {
   "cell_type": "code",
   "execution_count": 56,
   "metadata": {},
   "outputs": [
    {
     "data": {
      "text/html": [
       "<div>\n",
       "<style scoped>\n",
       "    .dataframe tbody tr th:only-of-type {\n",
       "        vertical-align: middle;\n",
       "    }\n",
       "\n",
       "    .dataframe tbody tr th {\n",
       "        vertical-align: top;\n",
       "    }\n",
       "\n",
       "    .dataframe thead th {\n",
       "        text-align: right;\n",
       "    }\n",
       "</style>\n",
       "<table border=\"1\" class=\"dataframe\">\n",
       "  <thead>\n",
       "    <tr style=\"text-align: right;\">\n",
       "      <th></th>\n",
       "      <th>left_agent</th>\n",
       "      <th>right_agent</th>\n",
       "      <th>left_agent_reward</th>\n",
       "      <th>right_agent_reward</th>\n",
       "      <th>left_agent_status</th>\n",
       "      <th>right_agent_status</th>\n",
       "    </tr>\n",
       "  </thead>\n",
       "  <tbody>\n",
       "    <tr>\n",
       "      <th>0</th>\n",
       "      <td>tunable-baseline-bot/submission_v6.py</td>\n",
       "      <td>best-open-rules-bot/submission_v2.py</td>\n",
       "      <td>-1</td>\n",
       "      <td>1</td>\n",
       "      <td>DONE</td>\n",
       "      <td>DONE</td>\n",
       "    </tr>\n",
       "  </tbody>\n",
       "</table>\n",
       "</div>"
      ],
      "text/plain": [
       "                              left_agent  \\\n",
       "0  tunable-baseline-bot/submission_v6.py   \n",
       "\n",
       "                            right_agent  left_agent_reward  \\\n",
       "0  best-open-rules-bot/submission_v2.py                 -1   \n",
       "\n",
       "   right_agent_reward left_agent_status right_agent_status  \n",
       "0                   1              DONE               DONE  "
      ]
     },
     "execution_count": 56,
     "metadata": {},
     "output_type": "execute_result"
    }
   ],
   "source": [
    "adf"
   ]
  },
  {
   "cell_type": "code",
   "execution_count": null,
   "metadata": {},
   "outputs": [],
   "source": []
  }
 ],
 "metadata": {
  "kernelspec": {
   "display_name": "Python 3",
   "language": "python",
   "name": "python3"
  },
  "language_info": {
   "codemirror_mode": {
    "name": "ipython",
    "version": 3
   },
   "file_extension": ".py",
   "mimetype": "text/x-python",
   "name": "python",
   "nbconvert_exporter": "python",
   "pygments_lexer": "ipython3",
   "version": "3.6.9"
  }
 },
 "nbformat": 4,
 "nbformat_minor": 4
}
